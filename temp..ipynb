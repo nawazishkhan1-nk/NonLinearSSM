{
 "cells": [
  {
   "cell_type": "code",
   "execution_count": 1,
   "source": [
    "import torch\n"
   ],
   "outputs": [],
   "metadata": {}
  },
  {
   "cell_type": "code",
   "execution_count": 28,
   "source": [
    "N = 10\n",
    "dM = 768\n",
    "x = torch.rand(N, dM)\n",
    "mean = x.mean(0)\n",
    "mean.shape"
   ],
   "outputs": [
    {
     "output_type": "execute_result",
     "data": {
      "text/plain": [
       "torch.Size([768])"
      ]
     },
     "metadata": {},
     "execution_count": 28
    }
   ],
   "metadata": {}
  },
  {
   "cell_type": "code",
   "execution_count": 30,
   "source": [
    "\n",
    "y = mean[None, :].expand(N, -1)\n",
    "y.shape\n",
    "y\n"
   ],
   "outputs": [
    {
     "output_type": "execute_result",
     "data": {
      "text/plain": [
       "tensor([[0.6341, 0.3482, 0.3873,  ..., 0.5538, 0.5781, 0.6489],\n",
       "        [0.6341, 0.3482, 0.3873,  ..., 0.5538, 0.5781, 0.6489],\n",
       "        [0.6341, 0.3482, 0.3873,  ..., 0.5538, 0.5781, 0.6489],\n",
       "        ...,\n",
       "        [0.6341, 0.3482, 0.3873,  ..., 0.5538, 0.5781, 0.6489],\n",
       "        [0.6341, 0.3482, 0.3873,  ..., 0.5538, 0.5781, 0.6489],\n",
       "        [0.6341, 0.3482, 0.3873,  ..., 0.5538, 0.5781, 0.6489]])"
      ]
     },
     "metadata": {},
     "execution_count": 30
    }
   ],
   "metadata": {}
  },
  {
   "cell_type": "code",
   "execution_count": 7,
   "source": [
    "cov = (1/(N-1))*(x.T@x)\n",
    "cov.shape"
   ],
   "outputs": [
    {
     "output_type": "execute_result",
     "data": {
      "text/plain": [
       "torch.Size([768, 768])"
      ]
     },
     "metadata": {},
     "execution_count": 7
    }
   ],
   "metadata": {}
  },
  {
   "cell_type": "code",
   "execution_count": 10,
   "source": [
    "eigvals = torch.linalg.eigvals(cov)\n",
    "eigvals.shape"
   ],
   "outputs": [
    {
     "output_type": "execute_result",
     "data": {
      "text/plain": [
       "torch.Size([768])"
      ]
     },
     "metadata": {},
     "execution_count": 10
    }
   ],
   "metadata": {}
  },
  {
   "cell_type": "code",
   "execution_count": 2,
   "source": [
    "from matplotlib.pyplot import cm\n",
    "import matplotlib.pyplot as plt\n",
    "import numpy as np\n",
    "\n",
    "#variable n below should be number of curves to plot\n",
    "\n",
    "#version 1:\n",
    "n = 3\n",
    "color = cm.rainbow(np.linspace(0, 1, n))\n"
   ],
   "outputs": [],
   "metadata": {}
  },
  {
   "cell_type": "code",
   "execution_count": 3,
   "source": [
    "color"
   ],
   "outputs": [
    {
     "output_type": "execute_result",
     "data": {
      "text/plain": [
       "array([[5.00000000e-01, 0.00000000e+00, 1.00000000e+00, 1.00000000e+00],\n",
       "       [5.03921569e-01, 9.99981027e-01, 7.04925547e-01, 1.00000000e+00],\n",
       "       [1.00000000e+00, 1.22464680e-16, 6.12323400e-17, 1.00000000e+00]])"
      ]
     },
     "metadata": {},
     "execution_count": 3
    }
   ],
   "metadata": {}
  },
  {
   "cell_type": "code",
   "execution_count": 5,
   "source": [
    "from matplotlib.cm import get_cmap\n",
    "\n",
    "name = \"Accent\"\n",
    "cmap = get_cmap(name)  # type: matplotlib.colors.ListedColormap\n",
    "colors = cmap.colors  # type: list\n",
    "len(colors)"
   ],
   "outputs": [
    {
     "output_type": "execute_result",
     "data": {
      "text/plain": [
       "8"
      ]
     },
     "metadata": {},
     "execution_count": 5
    }
   ],
   "metadata": {}
  },
  {
   "cell_type": "code",
   "execution_count": null,
   "source": [],
   "outputs": [],
   "metadata": {}
  },
  {
   "cell_type": "code",
   "execution_count": 12,
   "source": [
    "import matplotlib.colors as mcolors\n",
    "for x in mcolors.CSS4_COLORS.values():\n",
    "    print(x)"
   ],
   "outputs": [
    {
     "output_type": "stream",
     "name": "stdout",
     "text": [
      "#F0F8FF\n",
      "#FAEBD7\n",
      "#00FFFF\n",
      "#7FFFD4\n",
      "#F0FFFF\n",
      "#F5F5DC\n",
      "#FFE4C4\n",
      "#000000\n",
      "#FFEBCD\n",
      "#0000FF\n",
      "#8A2BE2\n",
      "#A52A2A\n",
      "#DEB887\n",
      "#5F9EA0\n",
      "#7FFF00\n",
      "#D2691E\n",
      "#FF7F50\n",
      "#6495ED\n",
      "#FFF8DC\n",
      "#DC143C\n",
      "#00FFFF\n",
      "#00008B\n",
      "#008B8B\n",
      "#B8860B\n",
      "#A9A9A9\n",
      "#006400\n",
      "#A9A9A9\n",
      "#BDB76B\n",
      "#8B008B\n",
      "#556B2F\n",
      "#FF8C00\n",
      "#9932CC\n",
      "#8B0000\n",
      "#E9967A\n",
      "#8FBC8F\n",
      "#483D8B\n",
      "#2F4F4F\n",
      "#2F4F4F\n",
      "#00CED1\n",
      "#9400D3\n",
      "#FF1493\n",
      "#00BFFF\n",
      "#696969\n",
      "#696969\n",
      "#1E90FF\n",
      "#B22222\n",
      "#FFFAF0\n",
      "#228B22\n",
      "#FF00FF\n",
      "#DCDCDC\n",
      "#F8F8FF\n",
      "#FFD700\n",
      "#DAA520\n",
      "#808080\n",
      "#008000\n",
      "#ADFF2F\n",
      "#808080\n",
      "#F0FFF0\n",
      "#FF69B4\n",
      "#CD5C5C\n",
      "#4B0082\n",
      "#FFFFF0\n",
      "#F0E68C\n",
      "#E6E6FA\n",
      "#FFF0F5\n",
      "#7CFC00\n",
      "#FFFACD\n",
      "#ADD8E6\n",
      "#F08080\n",
      "#E0FFFF\n",
      "#FAFAD2\n",
      "#D3D3D3\n",
      "#90EE90\n",
      "#D3D3D3\n",
      "#FFB6C1\n",
      "#FFA07A\n",
      "#20B2AA\n",
      "#87CEFA\n",
      "#778899\n",
      "#778899\n",
      "#B0C4DE\n",
      "#FFFFE0\n",
      "#00FF00\n",
      "#32CD32\n",
      "#FAF0E6\n",
      "#FF00FF\n",
      "#800000\n",
      "#66CDAA\n",
      "#0000CD\n",
      "#BA55D3\n",
      "#9370DB\n",
      "#3CB371\n",
      "#7B68EE\n",
      "#00FA9A\n",
      "#48D1CC\n",
      "#C71585\n",
      "#191970\n",
      "#F5FFFA\n",
      "#FFE4E1\n",
      "#FFE4B5\n",
      "#FFDEAD\n",
      "#000080\n",
      "#FDF5E6\n",
      "#808000\n",
      "#6B8E23\n",
      "#FFA500\n",
      "#FF4500\n",
      "#DA70D6\n",
      "#EEE8AA\n",
      "#98FB98\n",
      "#AFEEEE\n",
      "#DB7093\n",
      "#FFEFD5\n",
      "#FFDAB9\n",
      "#CD853F\n",
      "#FFC0CB\n",
      "#DDA0DD\n",
      "#B0E0E6\n",
      "#800080\n",
      "#663399\n",
      "#FF0000\n",
      "#BC8F8F\n",
      "#4169E1\n",
      "#8B4513\n",
      "#FA8072\n",
      "#F4A460\n",
      "#2E8B57\n",
      "#FFF5EE\n",
      "#A0522D\n",
      "#C0C0C0\n",
      "#87CEEB\n",
      "#6A5ACD\n",
      "#708090\n",
      "#708090\n",
      "#FFFAFA\n",
      "#00FF7F\n",
      "#4682B4\n",
      "#D2B48C\n",
      "#008080\n",
      "#D8BFD8\n",
      "#FF6347\n",
      "#40E0D0\n",
      "#EE82EE\n",
      "#F5DEB3\n",
      "#FFFFFF\n",
      "#F5F5F5\n",
      "#FFFF00\n",
      "#9ACD32\n"
     ]
    }
   ],
   "metadata": {}
  },
  {
   "cell_type": "code",
   "execution_count": null,
   "source": [],
   "outputs": [],
   "metadata": {}
  }
 ],
 "metadata": {
  "orig_nbformat": 4,
  "language_info": {
   "name": "python",
   "version": "3.9.13",
   "mimetype": "text/x-python",
   "codemirror_mode": {
    "name": "ipython",
    "version": 3
   },
   "pygments_lexer": "ipython3",
   "nbconvert_exporter": "python",
   "file_extension": ".py"
  },
  "kernelspec": {
   "name": "python3",
   "display_name": "Python 3.9.13 64-bit ('shapeworks': conda)"
  },
  "interpreter": {
   "hash": "2df1dc349b63b036b15fd5b9795d71864666c5aa27ec48171c76ab45320837a3"
  }
 },
 "nbformat": 4,
 "nbformat_minor": 2
}